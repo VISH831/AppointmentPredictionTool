{
 "cells": [
  {
   "cell_type": "code",
   "execution_count": 1,
   "metadata": {},
   "outputs": [],
   "source": [
    "import warnings\n",
    "warnings.filterwarnings('ignore')\n",
    "import pandas as pd\n",
    "import numpy as np\n",
    "from sklearn import preprocessing\n",
    "from sklearn.model_selection import train_test_split \n",
    "from sklearn.metrics import accuracy_score \n",
    "from sklearn.ensemble import RandomForestClassifier\n",
    "from sklearn.metrics import confusion_matrix, classification_report, roc_auc_score, roc_curve, f1_score, accuracy_score, recall_score, precision_score\n",
    "from sklearn.ensemble import AdaBoostClassifier, GradientBoostingClassifier\n",
    "import matplotlib.pyplot as plt\n",
    "import seaborn as sns\n",
    "from sklearn.manifold import TSNE\n",
    "import matplotlib.patches as mpatches\n",
    "import pickle"
   ]
  },
  {
   "cell_type": "code",
   "execution_count": 2,
   "metadata": {},
   "outputs": [],
   "source": [
    "### IN THIS SECTION CHECK OUT ALL RELEVANT VERSIONS OF Python COMPONENTS USED"
   ]
  },
  {
   "cell_type": "code",
   "execution_count": 3,
   "metadata": {},
   "outputs": [
    {
     "name": "stdout",
     "output_type": "stream",
     "text": [
      "2.0.3\n"
     ]
    }
   ],
   "source": [
    "import pandas\n",
    "print(pandas.__version__)"
   ]
  },
  {
   "cell_type": "code",
   "execution_count": 4,
   "metadata": {},
   "outputs": [
    {
     "name": "stdout",
     "output_type": "stream",
     "text": [
      "1.23.5\n"
     ]
    }
   ],
   "source": [
    "import numpy\n",
    "print(numpy.__version__)"
   ]
  },
  {
   "cell_type": "code",
   "execution_count": 5,
   "metadata": {},
   "outputs": [
    {
     "name": "stdout",
     "output_type": "stream",
     "text": [
      "Python 3.8.5\r\n"
     ]
    }
   ],
   "source": [
    "!python --version"
   ]
  },
  {
   "cell_type": "code",
   "execution_count": 6,
   "metadata": {},
   "outputs": [
    {
     "name": "stdout",
     "output_type": "stream",
     "text": [
      "Name: scikit-learn\r\n",
      "Version: 1.3.2\r\n",
      "Summary: A set of python modules for machine learning and data mining\r\n",
      "Home-page: http://scikit-learn.org\r\n",
      "Author: \r\n",
      "Author-email: \r\n",
      "License: new BSD\r\n",
      "Location: /Users/xiomara/opt/anaconda3/lib/python3.8/site-packages\r\n",
      "Requires: joblib, numpy, scipy, threadpoolctl\r\n",
      "Required-by: category-encoders, evidently, pyod\r\n"
     ]
    }
   ],
   "source": [
    "!pip show scikit-learn"
   ]
  },
  {
   "cell_type": "code",
   "execution_count": 7,
   "metadata": {},
   "outputs": [
    {
     "name": "stdout",
     "output_type": "stream",
     "text": [
      "/Users/xiomara/opt/anaconda3/bin/python\r\n"
     ]
    }
   ],
   "source": [
    "!which python"
   ]
  },
  {
   "cell_type": "code",
   "execution_count": 8,
   "metadata": {},
   "outputs": [
    {
     "name": "stdout",
     "output_type": "stream",
     "text": [
      "/Users/xiomara/opt/anaconda3/bin/conda\r\n"
     ]
    }
   ],
   "source": [
    "!which conda"
   ]
  },
  {
   "cell_type": "code",
   "execution_count": 9,
   "metadata": {},
   "outputs": [
    {
     "name": "stdout",
     "output_type": "stream",
     "text": [
      "conda 4.12.0\r\n"
     ]
    }
   ],
   "source": [
    "!conda --version"
   ]
  },
  {
   "cell_type": "code",
   "execution_count": 10,
   "metadata": {},
   "outputs": [],
   "source": [
    "# !pip3 freeze > requirements.txt"
   ]
  },
  {
   "cell_type": "code",
   "execution_count": 11,
   "metadata": {},
   "outputs": [],
   "source": [
    "!pip3 freeze | grep '==' > requirements.txt"
   ]
  },
  {
   "cell_type": "code",
   "execution_count": null,
   "metadata": {},
   "outputs": [],
   "source": []
  },
  {
   "cell_type": "code",
   "execution_count": 12,
   "metadata": {},
   "outputs": [],
   "source": [
    "# import data: CHLA_DATA.csv\n",
    "df = pd.read_csv('CHLA_DATA.csv')"
   ]
  },
  {
   "cell_type": "code",
   "execution_count": 13,
   "metadata": {},
   "outputs": [
    {
     "data": {
      "text/html": [
       "<div>\n",
       "<style scoped>\n",
       "    .dataframe tbody tr th:only-of-type {\n",
       "        vertical-align: middle;\n",
       "    }\n",
       "\n",
       "    .dataframe tbody tr th {\n",
       "        vertical-align: top;\n",
       "    }\n",
       "\n",
       "    .dataframe thead th {\n",
       "        text-align: right;\n",
       "    }\n",
       "</style>\n",
       "<table border=\"1\" class=\"dataframe\">\n",
       "  <thead>\n",
       "    <tr style=\"text-align: right;\">\n",
       "      <th></th>\n",
       "      <th>MRN</th>\n",
       "      <th>APPT_STATUS</th>\n",
       "      <th>APPT_DATE</th>\n",
       "      <th>BOOK_DATE</th>\n",
       "      <th>ZIPCODE</th>\n",
       "      <th>CLINIC</th>\n",
       "      <th>SCHEDULE_ID</th>\n",
       "      <th>APPT_ID</th>\n",
       "      <th>LEAD_TIME</th>\n",
       "      <th>IS_REPEAT</th>\n",
       "      <th>...</th>\n",
       "      <th>TOTAL_NUMBER_OF_SUCCESS_APPOINTMENT</th>\n",
       "      <th>TOTAL_NUMBER_OF_NOSHOW</th>\n",
       "      <th>DAY_OF_WEEK</th>\n",
       "      <th>WEEK_OF_MONTH</th>\n",
       "      <th>NUM_OF_MONTH</th>\n",
       "      <th>HOUR_OF_DAY</th>\n",
       "      <th>IS_NOSHOW</th>\n",
       "      <th>AGE</th>\n",
       "      <th>ETHNICITY_STANDARDIZE</th>\n",
       "      <th>RACE_STANDARDIZE</th>\n",
       "    </tr>\n",
       "  </thead>\n",
       "  <tbody>\n",
       "    <tr>\n",
       "      <th>0</th>\n",
       "      <td>4469690</td>\n",
       "      <td>CONFIRMED</td>\n",
       "      <td>12/5/23 10:30</td>\n",
       "      <td>6/5/23 12:02</td>\n",
       "      <td>93550</td>\n",
       "      <td>VALENCIA CARE CENTER</td>\n",
       "      <td>22570578</td>\n",
       "      <td>77117078</td>\n",
       "      <td>182</td>\n",
       "      <td>Y</td>\n",
       "      <td>...</td>\n",
       "      <td>2</td>\n",
       "      <td>0</td>\n",
       "      <td>1</td>\n",
       "      <td>1</td>\n",
       "      <td>12</td>\n",
       "      <td>10</td>\n",
       "      <td>N</td>\n",
       "      <td>17</td>\n",
       "      <td>Others</td>\n",
       "      <td>Other</td>\n",
       "    </tr>\n",
       "    <tr>\n",
       "      <th>1</th>\n",
       "      <td>4497581</td>\n",
       "      <td>CONFIRMED</td>\n",
       "      <td>11/27/23 11:00</td>\n",
       "      <td>5/30/23 9:25</td>\n",
       "      <td>91335</td>\n",
       "      <td>VALENCIA CARE CENTER</td>\n",
       "      <td>22539155</td>\n",
       "      <td>77017428</td>\n",
       "      <td>181</td>\n",
       "      <td>Y</td>\n",
       "      <td>...</td>\n",
       "      <td>1</td>\n",
       "      <td>0</td>\n",
       "      <td>0</td>\n",
       "      <td>4</td>\n",
       "      <td>11</td>\n",
       "      <td>11</td>\n",
       "      <td>N</td>\n",
       "      <td>11</td>\n",
       "      <td>Hispanic</td>\n",
       "      <td>SouthAmerican</td>\n",
       "    </tr>\n",
       "    <tr>\n",
       "      <th>2</th>\n",
       "      <td>1827827</td>\n",
       "      <td>CONFIRMED</td>\n",
       "      <td>11/17/23 13:30</td>\n",
       "      <td>5/19/23 14:13</td>\n",
       "      <td>91118</td>\n",
       "      <td>ARCADIA CARE CENTER</td>\n",
       "      <td>22502756</td>\n",
       "      <td>76884745</td>\n",
       "      <td>181</td>\n",
       "      <td>Y</td>\n",
       "      <td>...</td>\n",
       "      <td>4</td>\n",
       "      <td>0</td>\n",
       "      <td>4</td>\n",
       "      <td>3</td>\n",
       "      <td>11</td>\n",
       "      <td>13</td>\n",
       "      <td>N</td>\n",
       "      <td>14</td>\n",
       "      <td>Non-Hispanic</td>\n",
       "      <td>Asian</td>\n",
       "    </tr>\n",
       "    <tr>\n",
       "      <th>3</th>\n",
       "      <td>4398915</td>\n",
       "      <td>CONFIRMED</td>\n",
       "      <td>11/15/23 10:00</td>\n",
       "      <td>5/26/23 11:22</td>\n",
       "      <td>92019</td>\n",
       "      <td>ARCADIA CARE CENTER</td>\n",
       "      <td>22534280</td>\n",
       "      <td>76987765</td>\n",
       "      <td>172</td>\n",
       "      <td>Y</td>\n",
       "      <td>...</td>\n",
       "      <td>4</td>\n",
       "      <td>0</td>\n",
       "      <td>2</td>\n",
       "      <td>3</td>\n",
       "      <td>11</td>\n",
       "      <td>10</td>\n",
       "      <td>N</td>\n",
       "      <td>19</td>\n",
       "      <td>Non-Hispanic</td>\n",
       "      <td>European</td>\n",
       "    </tr>\n",
       "    <tr>\n",
       "      <th>4</th>\n",
       "      <td>4372854</td>\n",
       "      <td>CONFIRMED</td>\n",
       "      <td>11/14/23 15:30</td>\n",
       "      <td>5/30/23 15:48</td>\n",
       "      <td>91350</td>\n",
       "      <td>VALENCIA CARE CENTER</td>\n",
       "      <td>22547163</td>\n",
       "      <td>77032036</td>\n",
       "      <td>167</td>\n",
       "      <td>Y</td>\n",
       "      <td>...</td>\n",
       "      <td>1</td>\n",
       "      <td>0</td>\n",
       "      <td>1</td>\n",
       "      <td>2</td>\n",
       "      <td>11</td>\n",
       "      <td>15</td>\n",
       "      <td>N</td>\n",
       "      <td>17</td>\n",
       "      <td>Others</td>\n",
       "      <td>Other</td>\n",
       "    </tr>\n",
       "  </tbody>\n",
       "</table>\n",
       "<p>5 rows × 25 columns</p>\n",
       "</div>"
      ],
      "text/plain": [
       "       MRN APPT_STATUS       APPT_DATE      BOOK_DATE ZIPCODE  \\\n",
       "0  4469690   CONFIRMED   12/5/23 10:30   6/5/23 12:02   93550   \n",
       "1  4497581   CONFIRMED  11/27/23 11:00   5/30/23 9:25   91335   \n",
       "2  1827827   CONFIRMED  11/17/23 13:30  5/19/23 14:13   91118   \n",
       "3  4398915   CONFIRMED  11/15/23 10:00  5/26/23 11:22   92019   \n",
       "4  4372854   CONFIRMED  11/14/23 15:30  5/30/23 15:48   91350   \n",
       "\n",
       "                 CLINIC  SCHEDULE_ID   APPT_ID  LEAD_TIME IS_REPEAT  ...  \\\n",
       "0  VALENCIA CARE CENTER     22570578  77117078        182         Y  ...   \n",
       "1  VALENCIA CARE CENTER     22539155  77017428        181         Y  ...   \n",
       "2   ARCADIA CARE CENTER     22502756  76884745        181         Y  ...   \n",
       "3   ARCADIA CARE CENTER     22534280  76987765        172         Y  ...   \n",
       "4  VALENCIA CARE CENTER     22547163  77032036        167         Y  ...   \n",
       "\n",
       "  TOTAL_NUMBER_OF_SUCCESS_APPOINTMENT  TOTAL_NUMBER_OF_NOSHOW  DAY_OF_WEEK  \\\n",
       "0                                   2                       0            1   \n",
       "1                                   1                       0            0   \n",
       "2                                   4                       0            4   \n",
       "3                                   4                       0            2   \n",
       "4                                   1                       0            1   \n",
       "\n",
       "   WEEK_OF_MONTH  NUM_OF_MONTH  HOUR_OF_DAY  IS_NOSHOW  AGE  \\\n",
       "0              1            12           10          N   17   \n",
       "1              4            11           11          N   11   \n",
       "2              3            11           13          N   14   \n",
       "3              3            11           10          N   19   \n",
       "4              2            11           15          N   17   \n",
       "\n",
       "   ETHNICITY_STANDARDIZE  RACE_STANDARDIZE  \n",
       "0                 Others             Other  \n",
       "1               Hispanic     SouthAmerican  \n",
       "2           Non-Hispanic             Asian  \n",
       "3           Non-Hispanic          European  \n",
       "4                 Others             Other  \n",
       "\n",
       "[5 rows x 25 columns]"
      ]
     },
     "execution_count": 13,
     "metadata": {},
     "output_type": "execute_result"
    }
   ],
   "source": [
    "df.head()"
   ]
  },
  {
   "cell_type": "code",
   "execution_count": 14,
   "metadata": {},
   "outputs": [
    {
     "data": {
      "text/plain": [
       "MRN                                          int64\n",
       "APPT_STATUS                                 object\n",
       "APPT_DATE                                   object\n",
       "BOOK_DATE                                   object\n",
       "ZIPCODE                                     object\n",
       "CLINIC                                      object\n",
       "SCHEDULE_ID                                  int64\n",
       "APPT_ID                                      int64\n",
       "LEAD_TIME                                    int64\n",
       "IS_REPEAT                                   object\n",
       "APPT_TYPE_STANDARDIZE                       object\n",
       "APPT_NUM                                     int64\n",
       "TOTAL_NUMBER_OF_CANCELLATIONS                int64\n",
       "TOTAL_NUMBER_OF_RESCHEDULED                  int64\n",
       "TOTAL_NUMBER_OF_NOT_CHECKOUT_APPOINTMENT     int64\n",
       "TOTAL_NUMBER_OF_SUCCESS_APPOINTMENT          int64\n",
       "TOTAL_NUMBER_OF_NOSHOW                       int64\n",
       "DAY_OF_WEEK                                  int64\n",
       "WEEK_OF_MONTH                                int64\n",
       "NUM_OF_MONTH                                 int64\n",
       "HOUR_OF_DAY                                  int64\n",
       "IS_NOSHOW                                   object\n",
       "AGE                                          int64\n",
       "ETHNICITY_STANDARDIZE                       object\n",
       "RACE_STANDARDIZE                            object\n",
       "dtype: object"
      ]
     },
     "execution_count": 14,
     "metadata": {},
     "output_type": "execute_result"
    }
   ],
   "source": [
    "df.dtypes"
   ]
  },
  {
   "cell_type": "code",
   "execution_count": 15,
   "metadata": {},
   "outputs": [
    {
     "data": {
      "image/png": "[encoded data removed]",
      "text/plain": [
       "<Figure size 432x288 with 1 Axes>"
      ]
     },
     "metadata": {
      "needs_background": "light"
     },
     "output_type": "display_data"
    },
    {
     "name": "stdout",
     "output_type": "stream",
     "text": [
      "IS_NOSHOW\n",
      "N    14216\n",
      "Y     1033\n",
      "Name: count, dtype: int64\n",
      "IS_NOSHOW\n",
      "N    93.225785\n",
      "Y     6.774215\n",
      "Name: proportion, dtype: float64\n"
     ]
    }
   ],
   "source": [
    "# plot the distribution of the target variable: IS_NOSHOW\n",
    "sns.countplot(df['IS_NOSHOW'])\n",
    "plt.show()\n",
    "\n",
    "# show the count and percentage of each class\n",
    "print(df['IS_NOSHOW'].value_counts())\n",
    "print(df['IS_NOSHOW'].value_counts(normalize=True) * 100)"
   ]
  },
  {
   "cell_type": "code",
   "execution_count": 16,
   "metadata": {},
   "outputs": [
    {
     "data": {
      "text/plain": [
       "APPT_STATUS                  6\n",
       "APPT_DATE                 9134\n",
       "BOOK_DATE                12114\n",
       "ZIPCODE                    590\n",
       "CLINIC                       6\n",
       "IS_REPEAT                    2\n",
       "APPT_TYPE_STANDARDIZE        3\n",
       "IS_NOSHOW                    2\n",
       "ETHNICITY_STANDARDIZE        3\n",
       "RACE_STANDARDIZE             7\n",
       "dtype: int64"
      ]
     },
     "execution_count": 16,
     "metadata": {},
     "output_type": "execute_result"
    }
   ],
   "source": [
    "# show no. of unique values for each categorical column\n",
    "df.select_dtypes(include='object').nunique()"
   ]
  },
  {
   "cell_type": "code",
   "execution_count": 17,
   "metadata": {},
   "outputs": [],
   "source": [
    "# manually dropping columns based on EDA and domain knowledge\n",
    "\n",
    "# drop APPT_STATUS column because it gives the answer to the target variable\n",
    "df = df.drop(columns=['APPT_STATUS'])\n",
    "\n",
    "# drop identifier columns (irrelevant): MRN, APPT_ID, SCHEDULE_ID\n",
    "df = df.drop(columns=['MRN', 'APPT_ID', 'SCHEDULE_ID'])\n",
    "\n",
    "# drop APPT_NUM because it has a high correlation with TOTAL_NUMBER_OF_RESCHEUDLED and TOTAL_NUMBER_OF_SUCCESSFUL_APPOINTMENT\n",
    "df = df.drop(columns=['APPT_NUM'])\n",
    "\n",
    "\n",
    "# not sure about these (include in encoding if using them)\n",
    "# drop APPT_DATE and BOOK_DATE because they are redundant (DAY_OF_WEEK, WEEK_OF_MONTH, NUM_OF_MONTH, and LEAD_TIME are enough)\n",
    "df = df.drop(columns=['APPT_DATE', 'BOOK_DATE'])\n",
    "\n",
    "# drop ZIPCODE because it has too many unique values, and it does not provide any useful information\n",
    "df = df.drop(columns=['ZIPCODE'])"
   ]
  },
  {
   "cell_type": "code",
   "execution_count": 18,
   "metadata": {
    "scrolled": true
   },
   "outputs": [
    {
     "data": {
      "text/html": [
       "<div>\n",
       "<style scoped>\n",
       "    .dataframe tbody tr th:only-of-type {\n",
       "        vertical-align: middle;\n",
       "    }\n",
       "\n",
       "    .dataframe tbody tr th {\n",
       "        vertical-align: top;\n",
       "    }\n",
       "\n",
       "    .dataframe thead th {\n",
       "        text-align: right;\n",
       "    }\n",
       "</style>\n",
       "<table border=\"1\" class=\"dataframe\">\n",
       "  <thead>\n",
       "    <tr style=\"text-align: right;\">\n",
       "      <th></th>\n",
       "      <th>CLINIC</th>\n",
       "      <th>LEAD_TIME</th>\n",
       "      <th>IS_REPEAT</th>\n",
       "      <th>APPT_TYPE_STANDARDIZE</th>\n",
       "      <th>TOTAL_NUMBER_OF_CANCELLATIONS</th>\n",
       "      <th>TOTAL_NUMBER_OF_RESCHEDULED</th>\n",
       "      <th>TOTAL_NUMBER_OF_NOT_CHECKOUT_APPOINTMENT</th>\n",
       "      <th>TOTAL_NUMBER_OF_SUCCESS_APPOINTMENT</th>\n",
       "      <th>TOTAL_NUMBER_OF_NOSHOW</th>\n",
       "      <th>DAY_OF_WEEK</th>\n",
       "      <th>WEEK_OF_MONTH</th>\n",
       "      <th>NUM_OF_MONTH</th>\n",
       "      <th>HOUR_OF_DAY</th>\n",
       "      <th>IS_NOSHOW</th>\n",
       "      <th>AGE</th>\n",
       "      <th>ETHNICITY_STANDARDIZE</th>\n",
       "      <th>RACE_STANDARDIZE</th>\n",
       "    </tr>\n",
       "  </thead>\n",
       "  <tbody>\n",
       "    <tr>\n",
       "      <th>0</th>\n",
       "      <td>VALENCIA CARE CENTER</td>\n",
       "      <td>182</td>\n",
       "      <td>Y</td>\n",
       "      <td>Follow-up</td>\n",
       "      <td>0</td>\n",
       "      <td>0</td>\n",
       "      <td>0</td>\n",
       "      <td>2</td>\n",
       "      <td>0</td>\n",
       "      <td>1</td>\n",
       "      <td>1</td>\n",
       "      <td>12</td>\n",
       "      <td>10</td>\n",
       "      <td>N</td>\n",
       "      <td>17</td>\n",
       "      <td>Others</td>\n",
       "      <td>Other</td>\n",
       "    </tr>\n",
       "    <tr>\n",
       "      <th>1</th>\n",
       "      <td>VALENCIA CARE CENTER</td>\n",
       "      <td>181</td>\n",
       "      <td>Y</td>\n",
       "      <td>Follow-up</td>\n",
       "      <td>0</td>\n",
       "      <td>0</td>\n",
       "      <td>0</td>\n",
       "      <td>1</td>\n",
       "      <td>0</td>\n",
       "      <td>0</td>\n",
       "      <td>4</td>\n",
       "      <td>11</td>\n",
       "      <td>11</td>\n",
       "      <td>N</td>\n",
       "      <td>11</td>\n",
       "      <td>Hispanic</td>\n",
       "      <td>SouthAmerican</td>\n",
       "    </tr>\n",
       "    <tr>\n",
       "      <th>2</th>\n",
       "      <td>ARCADIA CARE CENTER</td>\n",
       "      <td>181</td>\n",
       "      <td>Y</td>\n",
       "      <td>Follow-up</td>\n",
       "      <td>0</td>\n",
       "      <td>2</td>\n",
       "      <td>0</td>\n",
       "      <td>4</td>\n",
       "      <td>0</td>\n",
       "      <td>4</td>\n",
       "      <td>3</td>\n",
       "      <td>11</td>\n",
       "      <td>13</td>\n",
       "      <td>N</td>\n",
       "      <td>14</td>\n",
       "      <td>Non-Hispanic</td>\n",
       "      <td>Asian</td>\n",
       "    </tr>\n",
       "    <tr>\n",
       "      <th>3</th>\n",
       "      <td>ARCADIA CARE CENTER</td>\n",
       "      <td>172</td>\n",
       "      <td>Y</td>\n",
       "      <td>Follow-up</td>\n",
       "      <td>0</td>\n",
       "      <td>3</td>\n",
       "      <td>0</td>\n",
       "      <td>4</td>\n",
       "      <td>0</td>\n",
       "      <td>2</td>\n",
       "      <td>3</td>\n",
       "      <td>11</td>\n",
       "      <td>10</td>\n",
       "      <td>N</td>\n",
       "      <td>19</td>\n",
       "      <td>Non-Hispanic</td>\n",
       "      <td>European</td>\n",
       "    </tr>\n",
       "    <tr>\n",
       "      <th>4</th>\n",
       "      <td>VALENCIA CARE CENTER</td>\n",
       "      <td>167</td>\n",
       "      <td>Y</td>\n",
       "      <td>Follow-up</td>\n",
       "      <td>1</td>\n",
       "      <td>0</td>\n",
       "      <td>0</td>\n",
       "      <td>1</td>\n",
       "      <td>0</td>\n",
       "      <td>1</td>\n",
       "      <td>2</td>\n",
       "      <td>11</td>\n",
       "      <td>15</td>\n",
       "      <td>N</td>\n",
       "      <td>17</td>\n",
       "      <td>Others</td>\n",
       "      <td>Other</td>\n",
       "    </tr>\n",
       "    <tr>\n",
       "      <th>...</th>\n",
       "      <td>...</td>\n",
       "      <td>...</td>\n",
       "      <td>...</td>\n",
       "      <td>...</td>\n",
       "      <td>...</td>\n",
       "      <td>...</td>\n",
       "      <td>...</td>\n",
       "      <td>...</td>\n",
       "      <td>...</td>\n",
       "      <td>...</td>\n",
       "      <td>...</td>\n",
       "      <td>...</td>\n",
       "      <td>...</td>\n",
       "      <td>...</td>\n",
       "      <td>...</td>\n",
       "      <td>...</td>\n",
       "      <td>...</td>\n",
       "    </tr>\n",
       "    <tr>\n",
       "      <th>15244</th>\n",
       "      <td>SOUTH BAY CARE CENTER</td>\n",
       "      <td>23</td>\n",
       "      <td>N</td>\n",
       "      <td>Follow-up</td>\n",
       "      <td>0</td>\n",
       "      <td>0</td>\n",
       "      <td>0</td>\n",
       "      <td>1</td>\n",
       "      <td>1</td>\n",
       "      <td>2</td>\n",
       "      <td>3</td>\n",
       "      <td>8</td>\n",
       "      <td>14</td>\n",
       "      <td>Y</td>\n",
       "      <td>22</td>\n",
       "      <td>Others</td>\n",
       "      <td>Other</td>\n",
       "    </tr>\n",
       "    <tr>\n",
       "      <th>15245</th>\n",
       "      <td>SOUTH BAY CARE CENTER</td>\n",
       "      <td>19</td>\n",
       "      <td>N</td>\n",
       "      <td>New</td>\n",
       "      <td>0</td>\n",
       "      <td>0</td>\n",
       "      <td>0</td>\n",
       "      <td>0</td>\n",
       "      <td>1</td>\n",
       "      <td>2</td>\n",
       "      <td>3</td>\n",
       "      <td>8</td>\n",
       "      <td>11</td>\n",
       "      <td>Y</td>\n",
       "      <td>5</td>\n",
       "      <td>Non-Hispanic</td>\n",
       "      <td>Other</td>\n",
       "    </tr>\n",
       "    <tr>\n",
       "      <th>15246</th>\n",
       "      <td>SOUTH BAY CARE CENTER</td>\n",
       "      <td>188</td>\n",
       "      <td>N</td>\n",
       "      <td>Follow-up</td>\n",
       "      <td>1</td>\n",
       "      <td>1</td>\n",
       "      <td>0</td>\n",
       "      <td>2</td>\n",
       "      <td>1</td>\n",
       "      <td>2</td>\n",
       "      <td>3</td>\n",
       "      <td>8</td>\n",
       "      <td>9</td>\n",
       "      <td>Y</td>\n",
       "      <td>9</td>\n",
       "      <td>Others</td>\n",
       "      <td>Other</td>\n",
       "    </tr>\n",
       "    <tr>\n",
       "      <th>15247</th>\n",
       "      <td>SOUTH BAY CARE CENTER</td>\n",
       "      <td>20</td>\n",
       "      <td>N</td>\n",
       "      <td>New</td>\n",
       "      <td>0</td>\n",
       "      <td>0</td>\n",
       "      <td>0</td>\n",
       "      <td>0</td>\n",
       "      <td>1</td>\n",
       "      <td>2</td>\n",
       "      <td>3</td>\n",
       "      <td>8</td>\n",
       "      <td>9</td>\n",
       "      <td>Y</td>\n",
       "      <td>5</td>\n",
       "      <td>Non-Hispanic</td>\n",
       "      <td>European</td>\n",
       "    </tr>\n",
       "    <tr>\n",
       "      <th>15248</th>\n",
       "      <td>VALENCIA CARE CENTER</td>\n",
       "      <td>60</td>\n",
       "      <td>N</td>\n",
       "      <td>Follow-up</td>\n",
       "      <td>1</td>\n",
       "      <td>2</td>\n",
       "      <td>0</td>\n",
       "      <td>3</td>\n",
       "      <td>1</td>\n",
       "      <td>0</td>\n",
       "      <td>2</td>\n",
       "      <td>8</td>\n",
       "      <td>10</td>\n",
       "      <td>Y</td>\n",
       "      <td>10</td>\n",
       "      <td>Others</td>\n",
       "      <td>Other</td>\n",
       "    </tr>\n",
       "  </tbody>\n",
       "</table>\n",
       "<p>15249 rows × 17 columns</p>\n",
       "</div>"
      ],
      "text/plain": [
       "                      CLINIC  LEAD_TIME IS_REPEAT APPT_TYPE_STANDARDIZE  \\\n",
       "0       VALENCIA CARE CENTER        182         Y             Follow-up   \n",
       "1       VALENCIA CARE CENTER        181         Y             Follow-up   \n",
       "2        ARCADIA CARE CENTER        181         Y             Follow-up   \n",
       "3        ARCADIA CARE CENTER        172         Y             Follow-up   \n",
       "4       VALENCIA CARE CENTER        167         Y             Follow-up   \n",
       "...                      ...        ...       ...                   ...   \n",
       "15244  SOUTH BAY CARE CENTER         23         N             Follow-up   \n",
       "15245  SOUTH BAY CARE CENTER         19         N                   New   \n",
       "15246  SOUTH BAY CARE CENTER        188         N             Follow-up   \n",
       "15247  SOUTH BAY CARE CENTER         20         N                   New   \n",
       "15248   VALENCIA CARE CENTER         60         N             Follow-up   \n",
       "\n",
       "       TOTAL_NUMBER_OF_CANCELLATIONS  TOTAL_NUMBER_OF_RESCHEDULED  \\\n",
       "0                                  0                            0   \n",
       "1                                  0                            0   \n",
       "2                                  0                            2   \n",
       "3                                  0                            3   \n",
       "4                                  1                            0   \n",
       "...                              ...                          ...   \n",
       "15244                              0                            0   \n",
       "15245                              0                            0   \n",
       "15246                              1                            1   \n",
       "15247                              0                            0   \n",
       "15248                              1                            2   \n",
       "\n",
       "       TOTAL_NUMBER_OF_NOT_CHECKOUT_APPOINTMENT  \\\n",
       "0                                             0   \n",
       "1                                             0   \n",
       "2                                             0   \n",
       "3                                             0   \n",
       "4                                             0   \n",
       "...                                         ...   \n",
       "15244                                         0   \n",
       "15245                                         0   \n",
       "15246                                         0   \n",
       "15247                                         0   \n",
       "15248                                         0   \n",
       "\n",
       "       TOTAL_NUMBER_OF_SUCCESS_APPOINTMENT  TOTAL_NUMBER_OF_NOSHOW  \\\n",
       "0                                        2                       0   \n",
       "1                                        1                       0   \n",
       "2                                        4                       0   \n",
       "3                                        4                       0   \n",
       "4                                        1                       0   \n",
       "...                                    ...                     ...   \n",
       "15244                                    1                       1   \n",
       "15245                                    0                       1   \n",
       "15246                                    2                       1   \n",
       "15247                                    0                       1   \n",
       "15248                                    3                       1   \n",
       "\n",
       "       DAY_OF_WEEK  WEEK_OF_MONTH  NUM_OF_MONTH  HOUR_OF_DAY IS_NOSHOW  AGE  \\\n",
       "0                1              1            12           10         N   17   \n",
       "1                0              4            11           11         N   11   \n",
       "2                4              3            11           13         N   14   \n",
       "3                2              3            11           10         N   19   \n",
       "4                1              2            11           15         N   17   \n",
       "...            ...            ...           ...          ...       ...  ...   \n",
       "15244            2              3             8           14         Y   22   \n",
       "15245            2              3             8           11         Y    5   \n",
       "15246            2              3             8            9         Y    9   \n",
       "15247            2              3             8            9         Y    5   \n",
       "15248            0              2             8           10         Y   10   \n",
       "\n",
       "      ETHNICITY_STANDARDIZE RACE_STANDARDIZE  \n",
       "0                    Others            Other  \n",
       "1                  Hispanic    SouthAmerican  \n",
       "2              Non-Hispanic            Asian  \n",
       "3              Non-Hispanic         European  \n",
       "4                    Others            Other  \n",
       "...                     ...              ...  \n",
       "15244                Others            Other  \n",
       "15245          Non-Hispanic            Other  \n",
       "15246                Others            Other  \n",
       "15247          Non-Hispanic         European  \n",
       "15248                Others            Other  \n",
       "\n",
       "[15249 rows x 17 columns]"
      ]
     },
     "execution_count": 18,
     "metadata": {},
     "output_type": "execute_result"
    }
   ],
   "source": [
    "# show no. of unique values for each categorical column\n",
    "df\n",
    "#cat_cols = df.select_dtypes(include=['object']).columns\n",
    "#df.columns # the features apart of the model"
   ]
  },
  {
   "cell_type": "markdown",
   "metadata": {},
   "source": [
    "# Encoding"
   ]
  },
  {
   "cell_type": "code",
   "execution_count": 19,
   "metadata": {
    "scrolled": true
   },
   "outputs": [
    {
     "data": {
      "text/plain": [
       "{'CLINIC': ['ARCADIA CARE CENTER',\n",
       "  'BAKERSFIELD CARE CLINIC',\n",
       "  'ENCINO CARE CENTER',\n",
       "  'SANTA MONICA CLINIC',\n",
       "  'SOUTH BAY CARE CENTER',\n",
       "  'Unknown',\n",
       "  'VALENCIA CARE CENTER'],\n",
       " 'APPT_TYPE_STANDARDIZE': ['Follow-up', 'New', 'Others', 'Unknown'],\n",
       " 'ETHNICITY_STANDARDIZE': ['Hispanic', 'Non-Hispanic', 'Others', 'Unknown'],\n",
       " 'RACE_STANDARDIZE': ['African',\n",
       "  'Asian',\n",
       "  'European',\n",
       "  'MiddleEastern',\n",
       "  'NorthAmerican',\n",
       "  'Other',\n",
       "  'SouthAmerican',\n",
       "  'Unknown'],\n",
       " 'IS_NOSHOW': {'Y': 1, 'N': 0},\n",
       " 'IS_REPEAT': {'Y': 1, 'N': 0}}"
      ]
     },
     "execution_count": 19,
     "metadata": {},
     "output_type": "execute_result"
    }
   ],
   "source": [
    "df['IS_NOSHOW'] = df['IS_NOSHOW'].map({'Y': 1, 'N': 0})\n",
    "df['IS_REPEAT'] = df['IS_REPEAT'].map({'Y': 1, 'N': 0})\n",
    "\n",
    "category_col =['CLINIC', 'APPT_TYPE_STANDARDIZE', 'ETHNICITY_STANDARDIZE', 'RACE_STANDARDIZE']  \n",
    "lbl_data = df.copy()\n",
    "df_input = df[category_col].copy()\n",
    "enc = preprocessing.LabelEncoder()\n",
    "encoder_dict = dict()\n",
    "\n",
    "for cat in category_col:\n",
    "    df_input[cat] = df_input[cat].str.lstrip()\n",
    "    enc = enc.fit(list(df_input[cat]) + ['Unknown'])\n",
    "    encoder_dict[cat] = [cat for cat in enc.classes_]\n",
    "    lbl_data[cat] = enc.transform(df_input[cat])\n",
    "\n",
    "encoder_dict['IS_NOSHOW'] = {'Y': 1, 'N': 0}\n",
    "encoder_dict['IS_REPEAT'] = {'Y': 1, 'N': 0}\n",
    "\n",
    "encoder_dict\n",
    "#lbl_data\n",
    "#df_input"
   ]
  },
  {
   "cell_type": "markdown",
   "metadata": {},
   "source": [
    "# Save Encoder"
   ]
  },
  {
   "cell_type": "code",
   "execution_count": 20,
   "metadata": {},
   "outputs": [],
   "source": [
    "encoder_pickle_out = open(\"encoder_V2.pkl\", \"wb\")\n",
    "pickle.dump(encoder_dict, encoder_pickle_out)\n",
    "encoder_pickle_out.close()"
   ]
  },
  {
   "cell_type": "markdown",
   "metadata": {},
   "source": [
    "# EDA"
   ]
  },
  {
   "cell_type": "code",
   "execution_count": 21,
   "metadata": {},
   "outputs": [
    {
     "data": {
      "text/plain": [
       "Text(0.5, 1.0, '<=50K Income vs >50K Income Count')"
      ]
     },
     "execution_count": 21,
     "metadata": {},
     "output_type": "execute_result"
    },
    {
     "data": {
      "image/png": "[encoded data removed]",
      "text/plain": [
       "<Figure size 720x360 with 1 Axes>"
      ]
     },
     "metadata": {
      "needs_background": "light"
     },
     "output_type": "display_data"
    }
   ],
   "source": [
    "# \n",
    "plt.figure(figsize=(10,5))\n",
    "ax = lbl_data.IS_NOSHOW.value_counts().plot(kind = 'bar')\n",
    "plt.xlabel(\"no_show v show\")\n",
    "plt.ylabel(\"Count\")\n",
    "plt.title(\"<=50K Income vs >50K Income Count\")"
   ]
  },
  {
   "cell_type": "code",
   "execution_count": 22,
   "metadata": {},
   "outputs": [
    {
     "data": {
      "image/png": "[encoded data removed]",
      "text/plain": [
       "<Figure size 1440x720 with 2 Axes>"
      ]
     },
     "metadata": {
      "needs_background": "light"
     },
     "output_type": "display_data"
    }
   ],
   "source": [
    "# Heatmap to find any high correlations\n",
    "plt.figure(figsize=(20,10))\n",
    "sns.heatmap(data=lbl_data.corr(), cmap=\"seismic\")\n",
    "plt.show()"
   ]
  },
  {
   "cell_type": "markdown",
   "metadata": {},
   "source": [
    "# Label Data"
   ]
  },
  {
   "cell_type": "code",
   "execution_count": 23,
   "metadata": {},
   "outputs": [],
   "source": [
    "X = lbl_data.drop('IS_NOSHOW', axis = 1) \n",
    "Y = lbl_data['IS_NOSHOW']"
   ]
  },
  {
   "cell_type": "markdown",
   "metadata": {},
   "source": [
    "# Split Train and Test"
   ]
  },
  {
   "cell_type": "code",
   "execution_count": 24,
   "metadata": {},
   "outputs": [],
   "source": [
    "X_train, X_test, y_train, y_test = train_test_split(X, Y, test_size = 0.3, random_state = 100) "
   ]
  },
  {
   "cell_type": "markdown",
   "metadata": {},
   "source": [
    "# Model - RF "
   ]
  },
  {
   "cell_type": "code",
   "execution_count": 25,
   "metadata": {},
   "outputs": [
    {
     "name": "stdout",
     "output_type": "stream",
     "text": [
      "[[4282    0]\n",
      " [   0  293]]\n",
      "              precision    recall  f1-score   support\n",
      "\n",
      "           0       1.00      1.00      1.00      4282\n",
      "           1       1.00      1.00      1.00       293\n",
      "\n",
      "    accuracy                           1.00      4575\n",
      "   macro avg       1.00      1.00      1.00      4575\n",
      "weighted avg       1.00      1.00      1.00      4575\n",
      "\n",
      "Accuracy Score: 1.0\n",
      "Recall Score: 1.0\n",
      "Precision Score: 1.0\n",
      "ROC AUC Score:  1.0\n",
      "Threshold: [inf  1.  0.]\n"
     ]
    }
   ],
   "source": [
    "rf = RandomForestClassifier(n_estimators=100, random_state=0)\n",
    "rf.fit(X_train, y_train)\n",
    "ypred = rf.predict(X_test)\n",
    "print(confusion_matrix(y_test, ypred))\n",
    "print(classification_report(y_test, ypred))\n",
    "print(\"Accuracy Score:\", accuracy_score(y_test, ypred))\n",
    "print(\"Recall Score:\", recall_score(y_test, ypred))\n",
    "print(\"Precision Score:\", precision_score(y_test, ypred))\n",
    "print(\"ROC AUC Score: \", roc_auc_score(y_test, ypred))\n",
    "rf_fp, rf_tp, rf_threshold = roc_curve(y_test, ypred)\n",
    "print(\"Threshold:\", rf_threshold)"
   ]
  },
  {
   "cell_type": "markdown",
   "metadata": {},
   "source": [
    "# ROC Curve"
   ]
  },
  {
   "cell_type": "code",
   "execution_count": 26,
   "metadata": {},
   "outputs": [
    {
     "data": {
      "text/plain": [
       "<matplotlib.legend.Legend at 0x7ff513a9dd00>"
      ]
     },
     "execution_count": 26,
     "metadata": {},
     "output_type": "execute_result"
    },
    {
     "data": {
      "image/png": "[encoded data removed]",
      "text/plain": [
       "<Figure size 1440x720 with 1 Axes>"
      ]
     },
     "metadata": {
      "needs_background": "light"
     },
     "output_type": "display_data"
    }
   ],
   "source": [
    "plt.figure(figsize=(20,10))\n",
    "plt.plot([0, 1], [0, 1], linestyle = \"--\")\n",
    "plt.plot(rf_fp, rf_tp, color=\"red\", label = \"Random Forest\")\n",
    "plt.xlabel(\"False Positive Rate\")\n",
    "plt.ylabel(\"True Positive Rate\")\n",
    "plt.title(\"ROC Curve\")\n",
    "plt.legend()"
   ]
  },
  {
   "cell_type": "code",
   "execution_count": 27,
   "metadata": {},
   "outputs": [
    {
     "data": {
      "text/html": [
       "<div>\n",
       "<style scoped>\n",
       "    .dataframe tbody tr th:only-of-type {\n",
       "        vertical-align: middle;\n",
       "    }\n",
       "\n",
       "    .dataframe tbody tr th {\n",
       "        vertical-align: top;\n",
       "    }\n",
       "\n",
       "    .dataframe thead th {\n",
       "        text-align: right;\n",
       "    }\n",
       "</style>\n",
       "<table border=\"1\" class=\"dataframe\">\n",
       "  <thead>\n",
       "    <tr style=\"text-align: right;\">\n",
       "      <th></th>\n",
       "      <th>Feature</th>\n",
       "      <th>Importance</th>\n",
       "    </tr>\n",
       "  </thead>\n",
       "  <tbody>\n",
       "    <tr>\n",
       "      <th>8</th>\n",
       "      <td>TOTAL_NUMBER_OF_NOSHOW</td>\n",
       "      <td>0.907458</td>\n",
       "    </tr>\n",
       "    <tr>\n",
       "      <th>4</th>\n",
       "      <td>TOTAL_NUMBER_OF_CANCELLATIONS</td>\n",
       "      <td>0.033269</td>\n",
       "    </tr>\n",
       "    <tr>\n",
       "      <th>7</th>\n",
       "      <td>TOTAL_NUMBER_OF_SUCCESS_APPOINTMENT</td>\n",
       "      <td>0.015593</td>\n",
       "    </tr>\n",
       "    <tr>\n",
       "      <th>1</th>\n",
       "      <td>LEAD_TIME</td>\n",
       "      <td>0.012076</td>\n",
       "    </tr>\n",
       "    <tr>\n",
       "      <th>5</th>\n",
       "      <td>TOTAL_NUMBER_OF_RESCHEDULED</td>\n",
       "      <td>0.007987</td>\n",
       "    </tr>\n",
       "    <tr>\n",
       "      <th>11</th>\n",
       "      <td>NUM_OF_MONTH</td>\n",
       "      <td>0.004626</td>\n",
       "    </tr>\n",
       "    <tr>\n",
       "      <th>13</th>\n",
       "      <td>AGE</td>\n",
       "      <td>0.003654</td>\n",
       "    </tr>\n",
       "    <tr>\n",
       "      <th>3</th>\n",
       "      <td>APPT_TYPE_STANDARDIZE</td>\n",
       "      <td>0.002674</td>\n",
       "    </tr>\n",
       "    <tr>\n",
       "      <th>0</th>\n",
       "      <td>CLINIC</td>\n",
       "      <td>0.002605</td>\n",
       "    </tr>\n",
       "    <tr>\n",
       "      <th>12</th>\n",
       "      <td>HOUR_OF_DAY</td>\n",
       "      <td>0.002137</td>\n",
       "    </tr>\n",
       "    <tr>\n",
       "      <th>2</th>\n",
       "      <td>IS_REPEAT</td>\n",
       "      <td>0.002023</td>\n",
       "    </tr>\n",
       "    <tr>\n",
       "      <th>15</th>\n",
       "      <td>RACE_STANDARDIZE</td>\n",
       "      <td>0.001891</td>\n",
       "    </tr>\n",
       "    <tr>\n",
       "      <th>10</th>\n",
       "      <td>WEEK_OF_MONTH</td>\n",
       "      <td>0.001563</td>\n",
       "    </tr>\n",
       "    <tr>\n",
       "      <th>9</th>\n",
       "      <td>DAY_OF_WEEK</td>\n",
       "      <td>0.001303</td>\n",
       "    </tr>\n",
       "    <tr>\n",
       "      <th>14</th>\n",
       "      <td>ETHNICITY_STANDARDIZE</td>\n",
       "      <td>0.001074</td>\n",
       "    </tr>\n",
       "    <tr>\n",
       "      <th>6</th>\n",
       "      <td>TOTAL_NUMBER_OF_NOT_CHECKOUT_APPOINTMENT</td>\n",
       "      <td>0.000066</td>\n",
       "    </tr>\n",
       "  </tbody>\n",
       "</table>\n",
       "</div>"
      ],
      "text/plain": [
       "                                     Feature  Importance\n",
       "8                     TOTAL_NUMBER_OF_NOSHOW    0.907458\n",
       "4              TOTAL_NUMBER_OF_CANCELLATIONS    0.033269\n",
       "7        TOTAL_NUMBER_OF_SUCCESS_APPOINTMENT    0.015593\n",
       "1                                  LEAD_TIME    0.012076\n",
       "5                TOTAL_NUMBER_OF_RESCHEDULED    0.007987\n",
       "11                              NUM_OF_MONTH    0.004626\n",
       "13                                       AGE    0.003654\n",
       "3                      APPT_TYPE_STANDARDIZE    0.002674\n",
       "0                                     CLINIC    0.002605\n",
       "12                               HOUR_OF_DAY    0.002137\n",
       "2                                  IS_REPEAT    0.002023\n",
       "15                          RACE_STANDARDIZE    0.001891\n",
       "10                             WEEK_OF_MONTH    0.001563\n",
       "9                                DAY_OF_WEEK    0.001303\n",
       "14                     ETHNICITY_STANDARDIZE    0.001074\n",
       "6   TOTAL_NUMBER_OF_NOT_CHECKOUT_APPOINTMENT    0.000066"
      ]
     },
     "execution_count": 27,
     "metadata": {},
     "output_type": "execute_result"
    }
   ],
   "source": [
    "feature_importance_df = pd.DataFrame(X_train.columns, columns=[\"Feature\"])\n",
    "feature_importance_df[\"Importance\"] = rf.feature_importances_\n",
    "feature_importance_df.sort_values('Importance', ascending=False, inplace=True)\n",
    "feature_importance_df = feature_importance_df.head(20)\n",
    "feature_importance_df"
   ]
  },
  {
   "cell_type": "code",
   "execution_count": 28,
   "metadata": {},
   "outputs": [
    {
     "data": {
      "text/plain": [
       "Text(0.5, 1.0, 'Plot Feature Importances')"
      ]
     },
     "execution_count": 28,
     "metadata": {},
     "output_type": "execute_result"
    },
    {
     "data": {
      "image/png": "[encoded data removed]",
      "text/plain": [
       "<Figure size 1080x360 with 1 Axes>"
      ]
     },
     "metadata": {
      "needs_background": "light"
     },
     "output_type": "display_data"
    }
   ],
   "source": [
    "plt.figure(figsize=(15,5))\n",
    "ax = feature_importance_df['Feature']\n",
    "plt.bar(range(feature_importance_df.shape[0]), feature_importance_df['Importance']*100)\n",
    "plt.xticks(range(feature_importance_df.shape[0]), feature_importance_df['Feature'], rotation = 20)\n",
    "plt.xlabel(\"Features\")\n",
    "plt.ylabel(\"Importance\")\n",
    "plt.title(\"Plot Feature Importances\")"
   ]
  },
  {
   "cell_type": "markdown",
   "metadata": {},
   "source": [
    "# Save Model"
   ]
  },
  {
   "cell_type": "code",
   "execution_count": 29,
   "metadata": {},
   "outputs": [],
   "source": [
    "pickle_out = open(\"model_V2.pkl\", \"wb\")\n",
    "pickle.dump(rf, pickle_out)\n",
    "pickle_out.close()"
   ]
  },
  {
   "cell_type": "markdown",
   "metadata": {},
   "source": [
    "# Test Model"
   ]
  },
  {
   "cell_type": "code",
   "execution_count": 30,
   "metadata": {},
   "outputs": [
    {
     "name": "stdout",
     "output_type": "stream",
     "text": [
      "{'CLINIC': ['ARCADIA CARE CENTER', 'BAKERSFIELD CARE CLINIC', 'ENCINO CARE CENTER', 'SANTA MONICA CLINIC', 'SOUTH BAY CARE CENTER', 'Unknown', 'VALENCIA CARE CENTER'], 'APPT_TYPE_STANDARDIZE': ['Follow-up', 'New', 'Others', 'Unknown'], 'ETHNICITY_STANDARDIZE': ['Hispanic', 'Non-Hispanic', 'Others', 'Unknown'], 'RACE_STANDARDIZE': ['African', 'Asian', 'European', 'MiddleEastern', 'NorthAmerican', 'Other', 'SouthAmerican', 'Unknown'], 'IS_NOSHOW': {'Y': 1, 'N': 0}, 'IS_REPEAT': {'Y': 1, 'N': 0}}\n"
     ]
    }
   ],
   "source": [
    "pkl_file = open('encoder_V2.pkl', 'rb')\n",
    "encoder_dict_V2 = pickle.load(pkl_file) \n",
    "pkl_file.close()\n",
    "\n",
    "print(encoder_dict)"
   ]
  },
  {
   "cell_type": "code",
   "execution_count": 31,
   "metadata": {},
   "outputs": [],
   "source": [
    "# example input\n",
    "\n",
    "data = { 'CLINIC':'SANTA MONICA CLINIC', \n",
    "        'LEAD_TIME': 60, \n",
    "        'IS_REPEAT':'Y', \n",
    "        'APPT_TYPE_STANDARDIZE':'Follow-up',\n",
    "       'TOTAL_NUMBER_OF_CANCELLATIONS':0, \n",
    "        'TOTAL_NUMBER_OF_RESCHEDULED':2,\n",
    "       'TOTAL_NUMBER_OF_NOT_CHECKOUT_APPOINTMENT':0,\n",
    "       'TOTAL_NUMBER_OF_SUCCESS_APPOINTMENT':4, \n",
    "        'TOTAL_NUMBER_OF_NOSHOW':1,\n",
    "       'DAY_OF_WEEK':2, \n",
    "        'WEEK_OF_MONTH':3, \n",
    "        'NUM_OF_MONTH':1, \n",
    "        'HOUR_OF_DAY':10, \n",
    "        'AGE':16, \n",
    "        'ETHNICITY_STANDARDIZE':'Hispanic', \n",
    "        'RACE_STANDARDIZE':'European'\n",
    "       }\n",
    "\n",
    "# Convert the data into a DataFrame for easier manipulation\n",
    "df = pd.DataFrame([data])\n",
    "\n",
    "# Load the encoder dictionary from a pickle file\n",
    "with open('encoder_V2.pkl', 'rb') as pkl_file:\n",
    "    encoder_dict = pickle.load(pkl_file)\n",
    "\n",
    "    \n",
    "# Preprocess and encode the categorical columns\n",
    "category_col = ['CLINIC', 'APPT_TYPE_STANDARDIZE', 'ETHNICITY_STANDARDIZE', 'RACE_STANDARDIZE']\n",
    "\n",
    "for col in category_col:\n",
    "    # Initialize a LabelEncoder\n",
    "    le = preprocessing.LabelEncoder()\n",
    "    \n",
    "    # Convert the loaded classes list to a numpy array with dtype 'object'\n",
    "    le.classes_ = np.array(encoder_dict[col], dtype=object)\n",
    "\n",
    "    # Check and replace unknown values with 'Unknown'\n",
    "    df[col] = df[col].apply(lambda x: x if x in le.classes_ else 'Unknown')\n",
    "    \n",
    "    # If 'Unknown' is not in le.classes_, add it or handle accordingly\n",
    "    if 'Unknown' not in le.classes_:\n",
    "        print(f\"'Unknown' category not handled for {col}.\")\n",
    "        continue\n",
    "    \n",
    "    # Transform the data\n",
    "    df[col] = le.transform(df[col])\n",
    "\n",
    "# Add manual mapping here\n",
    "manual_mappings = {'IS_REPEAT': {'Y': 1, 'N': 0}}\n",
    "\n",
    "for col, mapping in manual_mappings.items():\n",
    "    # Apply the mapping\n",
    "    df[col] = df[col].map(mapping)"
   ]
  },
  {
   "cell_type": "code",
   "execution_count": 32,
   "metadata": {
    "scrolled": true
   },
   "outputs": [
    {
     "name": "stdout",
     "output_type": "stream",
     "text": [
      "1\n"
     ]
    }
   ],
   "source": [
    "# Prediction Section\n",
    "\n",
    "model = pickle.load(open('model_V2.pkl', 'rb'))\n",
    "features_list = df.values.tolist()\n",
    "prediction = model.predict(features_list)\n",
    "print(prediction[0])"
   ]
  },
  {
   "cell_type": "code",
   "execution_count": null,
   "metadata": {},
   "outputs": [],
   "source": []
  },
  {
   "cell_type": "code",
   "execution_count": 33,
   "metadata": {},
   "outputs": [],
   "source": [
    "### LOCAL DEPLOYMENT and TESTING Section ###"
   ]
  },
  {
   "cell_type": "code",
   "execution_count": null,
   "metadata": {},
   "outputs": [
    {
     "name": "stdout",
     "output_type": "stream",
     "text": [
      "\u001b[0m\n",
      "\u001b[34m\u001b[1m  You can now view your Streamlit app in your browser.\u001b[0m\n",
      "\u001b[0m\n",
      "\u001b[34m  Local URL: \u001b[0m\u001b[1mhttp://localhost:8501\u001b[0m\n",
      "\u001b[34m  Network URL: \u001b[0m\u001b[1mhttp://192.168.1.93:8501\u001b[0m\n",
      "\u001b[0m\n",
      "2024-03-15 21:07:20.261 Uncaught app exception\n",
      "Traceback (most recent call last):\n",
      "  File \"/Users/xiomara/opt/anaconda3/lib/python3.8/site-packages/streamlit/elements/widgets/number_input.py\", line 399, in _number_input\n",
      "    JSNumber.validate_float_bounds(min_value, \"`min_value`\")\n",
      "  File \"/Users/xiomara/opt/anaconda3/lib/python3.8/site-packages/streamlit/js_number.py\", line 98, in validate_float_bounds\n",
      "    raise JSNumberBoundsException(\n",
      "streamlit.js_number.JSNumberBoundsException: `min_value` (0) is not a float\n",
      "\n",
      "During handling of the above exception, another exception occurred:\n",
      "\n",
      "Traceback (most recent call last):\n",
      "  File \"/Users/xiomara/opt/anaconda3/lib/python3.8/site-packages/streamlit/runtime/scriptrunner/script_runner.py\", line 535, in _run_script\n",
      "    exec(code, module.__dict__)\n",
      "  File \"/Users/xiomara/Desktop/BSAN 6198/Project 2/app_V3.py\", line 124, in <module>\n",
      "    main()\n",
      "  File \"/Users/xiomara/Desktop/BSAN 6198/Project 2/app_V3.py\", line 67, in main\n",
      "    TOTAL_NUMBER_OF_CANCELLATIONS = st.number_input(\"Number of Cancellations\",\"0\")\n",
      "  File \"/Users/xiomara/opt/anaconda3/lib/python3.8/site-packages/streamlit/runtime/metrics_util.py\", line 397, in wrapped_func\n",
      "    result = non_optional_func(*args, **kwargs)\n",
      "  File \"/Users/xiomara/opt/anaconda3/lib/python3.8/site-packages/streamlit/elements/widgets/number_input.py\", line 237, in number_input\n",
      "    return self._number_input(\n",
      "  File \"/Users/xiomara/opt/anaconda3/lib/python3.8/site-packages/streamlit/elements/widgets/number_input.py\", line 407, in _number_input\n",
      "    raise StreamlitAPIException(str(e))\n",
      "streamlit.errors.StreamlitAPIException: `min_value` (0) is not a float\n",
      "2024-03-15 21:13:07.509 Uncaught app exception\n",
      "Traceback (most recent call last):\n",
      "  File \"/Users/xiomara/opt/anaconda3/lib/python3.8/site-packages/streamlit/elements/widgets/number_input.py\", line 399, in _number_input\n",
      "    JSNumber.validate_float_bounds(min_value, \"`min_value`\")\n",
      "  File \"/Users/xiomara/opt/anaconda3/lib/python3.8/site-packages/streamlit/js_number.py\", line 98, in validate_float_bounds\n",
      "    raise JSNumberBoundsException(\n",
      "streamlit.js_number.JSNumberBoundsException: `min_value` (0) is not a float\n",
      "\n",
      "During handling of the above exception, another exception occurred:\n",
      "\n",
      "Traceback (most recent call last):\n",
      "  File \"/Users/xiomara/opt/anaconda3/lib/python3.8/site-packages/streamlit/runtime/scriptrunner/script_runner.py\", line 535, in _run_script\n",
      "    exec(code, module.__dict__)\n",
      "  File \"/Users/xiomara/Desktop/BSAN 6198/Project 2/app_V3.py\", line 124, in <module>\n",
      "    main()\n",
      "  File \"/Users/xiomara/Desktop/BSAN 6198/Project 2/app_V3.py\", line 68, in main\n",
      "    TOTAL_NUMBER_OF_NOT_CHECKOUT_APPOINTMENT = st.number_input(\"Number of Not Checkout Appointment (idk what this means)\",\"0\")\n",
      "  File \"/Users/xiomara/opt/anaconda3/lib/python3.8/site-packages/streamlit/runtime/metrics_util.py\", line 397, in wrapped_func\n",
      "    result = non_optional_func(*args, **kwargs)\n",
      "  File \"/Users/xiomara/opt/anaconda3/lib/python3.8/site-packages/streamlit/elements/widgets/number_input.py\", line 237, in number_input\n",
      "    return self._number_input(\n",
      "  File \"/Users/xiomara/opt/anaconda3/lib/python3.8/site-packages/streamlit/elements/widgets/number_input.py\", line 407, in _number_input\n",
      "    raise StreamlitAPIException(str(e))\n",
      "streamlit.errors.StreamlitAPIException: `min_value` (0) is not a float\n",
      "2024-03-15 21:13:16.123 Uncaught app exception\n",
      "Traceback (most recent call last):\n",
      "  File \"/Users/xiomara/opt/anaconda3/lib/python3.8/site-packages/streamlit/elements/widgets/number_input.py\", line 399, in _number_input\n",
      "    JSNumber.validate_float_bounds(min_value, \"`min_value`\")\n",
      "  File \"/Users/xiomara/opt/anaconda3/lib/python3.8/site-packages/streamlit/js_number.py\", line 98, in validate_float_bounds\n",
      "    raise JSNumberBoundsException(\n",
      "streamlit.js_number.JSNumberBoundsException: `min_value` (0) is not a float\n",
      "\n",
      "During handling of the above exception, another exception occurred:\n",
      "\n",
      "Traceback (most recent call last):\n",
      "  File \"/Users/xiomara/opt/anaconda3/lib/python3.8/site-packages/streamlit/runtime/scriptrunner/script_runner.py\", line 535, in _run_script\n",
      "    exec(code, module.__dict__)\n",
      "  File \"/Users/xiomara/Desktop/BSAN 6198/Project 2/app_V3.py\", line 124, in <module>\n",
      "    main()\n",
      "  File \"/Users/xiomara/Desktop/BSAN 6198/Project 2/app_V3.py\", line 68, in main\n",
      "    TOTAL_NUMBER_OF_NOT_CHECKOUT_APPOINTMENT = st.number_input(\"Number of Not Checkout Appointment (idk what this means)\",\"0\")\n",
      "  File \"/Users/xiomara/opt/anaconda3/lib/python3.8/site-packages/streamlit/runtime/metrics_util.py\", line 397, in wrapped_func\n",
      "    result = non_optional_func(*args, **kwargs)\n",
      "  File \"/Users/xiomara/opt/anaconda3/lib/python3.8/site-packages/streamlit/elements/widgets/number_input.py\", line 237, in number_input\n",
      "    return self._number_input(\n",
      "  File \"/Users/xiomara/opt/anaconda3/lib/python3.8/site-packages/streamlit/elements/widgets/number_input.py\", line 407, in _number_input\n",
      "    raise StreamlitAPIException(str(e))\n",
      "streamlit.errors.StreamlitAPIException: `min_value` (0) is not a float\n",
      "2024-03-15 21:13:16.280 Uncaught app exception\n",
      "Traceback (most recent call last):\n",
      "  File \"/Users/xiomara/opt/anaconda3/lib/python3.8/site-packages/streamlit/elements/widgets/number_input.py\", line 399, in _number_input\n",
      "    JSNumber.validate_float_bounds(min_value, \"`min_value`\")\n",
      "  File \"/Users/xiomara/opt/anaconda3/lib/python3.8/site-packages/streamlit/js_number.py\", line 98, in validate_float_bounds\n",
      "    raise JSNumberBoundsException(\n",
      "streamlit.js_number.JSNumberBoundsException: `min_value` (0) is not a float\n",
      "\n",
      "During handling of the above exception, another exception occurred:\n",
      "\n",
      "Traceback (most recent call last):\n",
      "  File \"/Users/xiomara/opt/anaconda3/lib/python3.8/site-packages/streamlit/runtime/scriptrunner/script_runner.py\", line 535, in _run_script\n",
      "    exec(code, module.__dict__)\n",
      "  File \"/Users/xiomara/Desktop/BSAN 6198/Project 2/app_V3.py\", line 124, in <module>\n",
      "    main()\n",
      "  File \"/Users/xiomara/Desktop/BSAN 6198/Project 2/app_V3.py\", line 68, in main\n",
      "    TOTAL_NUMBER_OF_NOT_CHECKOUT_APPOINTMENT = st.number_input(\"Number of Not Checkout Appointment (idk what this means)\",\"0\")\n",
      "  File \"/Users/xiomara/opt/anaconda3/lib/python3.8/site-packages/streamlit/runtime/metrics_util.py\", line 397, in wrapped_func\n",
      "    result = non_optional_func(*args, **kwargs)\n",
      "  File \"/Users/xiomara/opt/anaconda3/lib/python3.8/site-packages/streamlit/elements/widgets/number_input.py\", line 237, in number_input\n",
      "    return self._number_input(\n",
      "  File \"/Users/xiomara/opt/anaconda3/lib/python3.8/site-packages/streamlit/elements/widgets/number_input.py\", line 407, in _number_input\n",
      "    raise StreamlitAPIException(str(e))\n",
      "streamlit.errors.StreamlitAPIException: `min_value` (0) is not a float\n",
      "2024-03-15 21:13:16.426 Uncaught app exception\n",
      "Traceback (most recent call last):\n",
      "  File \"/Users/xiomara/opt/anaconda3/lib/python3.8/site-packages/streamlit/elements/widgets/number_input.py\", line 399, in _number_input\n",
      "    JSNumber.validate_float_bounds(min_value, \"`min_value`\")\n",
      "  File \"/Users/xiomara/opt/anaconda3/lib/python3.8/site-packages/streamlit/js_number.py\", line 98, in validate_float_bounds\n",
      "    raise JSNumberBoundsException(\n",
      "streamlit.js_number.JSNumberBoundsException: `min_value` (0) is not a float\n",
      "\n",
      "During handling of the above exception, another exception occurred:\n",
      "\n",
      "Traceback (most recent call last):\n",
      "  File \"/Users/xiomara/opt/anaconda3/lib/python3.8/site-packages/streamlit/runtime/scriptrunner/script_runner.py\", line 535, in _run_script\n",
      "    exec(code, module.__dict__)\n",
      "  File \"/Users/xiomara/Desktop/BSAN 6198/Project 2/app_V3.py\", line 124, in <module>\n",
      "    main()\n",
      "  File \"/Users/xiomara/Desktop/BSAN 6198/Project 2/app_V3.py\", line 68, in main\n",
      "    TOTAL_NUMBER_OF_NOT_CHECKOUT_APPOINTMENT = st.number_input(\"Number of Not Checkout Appointment (idk what this means)\",\"0\")\n",
      "  File \"/Users/xiomara/opt/anaconda3/lib/python3.8/site-packages/streamlit/runtime/metrics_util.py\", line 397, in wrapped_func\n",
      "    result = non_optional_func(*args, **kwargs)\n",
      "  File \"/Users/xiomara/opt/anaconda3/lib/python3.8/site-packages/streamlit/elements/widgets/number_input.py\", line 237, in number_input\n",
      "    return self._number_input(\n",
      "  File \"/Users/xiomara/opt/anaconda3/lib/python3.8/site-packages/streamlit/elements/widgets/number_input.py\", line 407, in _number_input\n",
      "    raise StreamlitAPIException(str(e))\n",
      "streamlit.errors.StreamlitAPIException: `min_value` (0) is not a float\n"
     ]
    },
    {
     "name": "stdout",
     "output_type": "stream",
     "text": [
      "2024-03-15 21:13:16.579 Uncaught app exception\n",
      "Traceback (most recent call last):\n",
      "  File \"/Users/xiomara/opt/anaconda3/lib/python3.8/site-packages/streamlit/elements/widgets/number_input.py\", line 399, in _number_input\n",
      "    JSNumber.validate_float_bounds(min_value, \"`min_value`\")\n",
      "  File \"/Users/xiomara/opt/anaconda3/lib/python3.8/site-packages/streamlit/js_number.py\", line 98, in validate_float_bounds\n",
      "    raise JSNumberBoundsException(\n",
      "streamlit.js_number.JSNumberBoundsException: `min_value` (0) is not a float\n",
      "\n",
      "During handling of the above exception, another exception occurred:\n",
      "\n",
      "Traceback (most recent call last):\n",
      "  File \"/Users/xiomara/opt/anaconda3/lib/python3.8/site-packages/streamlit/runtime/scriptrunner/script_runner.py\", line 535, in _run_script\n",
      "    exec(code, module.__dict__)\n",
      "  File \"/Users/xiomara/Desktop/BSAN 6198/Project 2/app_V3.py\", line 124, in <module>\n",
      "    main()\n",
      "  File \"/Users/xiomara/Desktop/BSAN 6198/Project 2/app_V3.py\", line 68, in main\n",
      "    TOTAL_NUMBER_OF_NOT_CHECKOUT_APPOINTMENT = st.number_input(\"Number of Not Checkout Appointment (idk what this means)\",\"0\")\n",
      "  File \"/Users/xiomara/opt/anaconda3/lib/python3.8/site-packages/streamlit/runtime/metrics_util.py\", line 397, in wrapped_func\n",
      "    result = non_optional_func(*args, **kwargs)\n",
      "  File \"/Users/xiomara/opt/anaconda3/lib/python3.8/site-packages/streamlit/elements/widgets/number_input.py\", line 237, in number_input\n",
      "    return self._number_input(\n",
      "  File \"/Users/xiomara/opt/anaconda3/lib/python3.8/site-packages/streamlit/elements/widgets/number_input.py\", line 407, in _number_input\n",
      "    raise StreamlitAPIException(str(e))\n",
      "streamlit.errors.StreamlitAPIException: `min_value` (0) is not a float\n",
      "2024-03-15 21:13:16.903 Uncaught app exception\n",
      "Traceback (most recent call last):\n",
      "  File \"/Users/xiomara/opt/anaconda3/lib/python3.8/site-packages/streamlit/elements/widgets/number_input.py\", line 399, in _number_input\n",
      "    JSNumber.validate_float_bounds(min_value, \"`min_value`\")\n",
      "  File \"/Users/xiomara/opt/anaconda3/lib/python3.8/site-packages/streamlit/js_number.py\", line 98, in validate_float_bounds\n",
      "    raise JSNumberBoundsException(\n",
      "streamlit.js_number.JSNumberBoundsException: `min_value` (0) is not a float\n",
      "\n",
      "During handling of the above exception, another exception occurred:\n",
      "\n",
      "Traceback (most recent call last):\n",
      "  File \"/Users/xiomara/opt/anaconda3/lib/python3.8/site-packages/streamlit/runtime/scriptrunner/script_runner.py\", line 535, in _run_script\n",
      "    exec(code, module.__dict__)\n",
      "  File \"/Users/xiomara/Desktop/BSAN 6198/Project 2/app_V3.py\", line 124, in <module>\n",
      "    main()\n",
      "  File \"/Users/xiomara/Desktop/BSAN 6198/Project 2/app_V3.py\", line 68, in main\n",
      "    TOTAL_NUMBER_OF_NOT_CHECKOUT_APPOINTMENT = st.number_input(\"Number of Not Checkout Appointment (idk what this means)\",\"0\")\n",
      "  File \"/Users/xiomara/opt/anaconda3/lib/python3.8/site-packages/streamlit/runtime/metrics_util.py\", line 397, in wrapped_func\n",
      "    result = non_optional_func(*args, **kwargs)\n",
      "  File \"/Users/xiomara/opt/anaconda3/lib/python3.8/site-packages/streamlit/elements/widgets/number_input.py\", line 237, in number_input\n",
      "    return self._number_input(\n",
      "  File \"/Users/xiomara/opt/anaconda3/lib/python3.8/site-packages/streamlit/elements/widgets/number_input.py\", line 407, in _number_input\n",
      "    raise StreamlitAPIException(str(e))\n",
      "streamlit.errors.StreamlitAPIException: `min_value` (0) is not a float\n",
      "2024-03-15 21:13:17.048 Uncaught app exception\n",
      "Traceback (most recent call last):\n",
      "  File \"/Users/xiomara/opt/anaconda3/lib/python3.8/site-packages/streamlit/elements/widgets/number_input.py\", line 399, in _number_input\n",
      "    JSNumber.validate_float_bounds(min_value, \"`min_value`\")\n",
      "  File \"/Users/xiomara/opt/anaconda3/lib/python3.8/site-packages/streamlit/js_number.py\", line 98, in validate_float_bounds\n",
      "    raise JSNumberBoundsException(\n",
      "streamlit.js_number.JSNumberBoundsException: `min_value` (0) is not a float\n",
      "\n",
      "During handling of the above exception, another exception occurred:\n",
      "\n",
      "Traceback (most recent call last):\n",
      "  File \"/Users/xiomara/opt/anaconda3/lib/python3.8/site-packages/streamlit/runtime/scriptrunner/script_runner.py\", line 535, in _run_script\n",
      "    exec(code, module.__dict__)\n",
      "  File \"/Users/xiomara/Desktop/BSAN 6198/Project 2/app_V3.py\", line 124, in <module>\n",
      "    main()\n",
      "  File \"/Users/xiomara/Desktop/BSAN 6198/Project 2/app_V3.py\", line 68, in main\n",
      "    TOTAL_NUMBER_OF_NOT_CHECKOUT_APPOINTMENT = st.number_input(\"Number of Not Checkout Appointment (idk what this means)\",\"0\")\n",
      "  File \"/Users/xiomara/opt/anaconda3/lib/python3.8/site-packages/streamlit/runtime/metrics_util.py\", line 397, in wrapped_func\n",
      "    result = non_optional_func(*args, **kwargs)\n",
      "  File \"/Users/xiomara/opt/anaconda3/lib/python3.8/site-packages/streamlit/elements/widgets/number_input.py\", line 237, in number_input\n",
      "    return self._number_input(\n",
      "  File \"/Users/xiomara/opt/anaconda3/lib/python3.8/site-packages/streamlit/elements/widgets/number_input.py\", line 407, in _number_input\n",
      "    raise StreamlitAPIException(str(e))\n",
      "streamlit.errors.StreamlitAPIException: `min_value` (0) is not a float\n",
      "2024-03-15 21:13:17.196 Uncaught app exception\n",
      "Traceback (most recent call last):\n",
      "  File \"/Users/xiomara/opt/anaconda3/lib/python3.8/site-packages/streamlit/elements/widgets/number_input.py\", line 399, in _number_input\n",
      "    JSNumber.validate_float_bounds(min_value, \"`min_value`\")\n",
      "  File \"/Users/xiomara/opt/anaconda3/lib/python3.8/site-packages/streamlit/js_number.py\", line 98, in validate_float_bounds\n",
      "    raise JSNumberBoundsException(\n",
      "streamlit.js_number.JSNumberBoundsException: `min_value` (0) is not a float\n",
      "\n",
      "During handling of the above exception, another exception occurred:\n",
      "\n",
      "Traceback (most recent call last):\n",
      "  File \"/Users/xiomara/opt/anaconda3/lib/python3.8/site-packages/streamlit/runtime/scriptrunner/script_runner.py\", line 535, in _run_script\n",
      "    exec(code, module.__dict__)\n",
      "  File \"/Users/xiomara/Desktop/BSAN 6198/Project 2/app_V3.py\", line 124, in <module>\n",
      "    main()\n",
      "  File \"/Users/xiomara/Desktop/BSAN 6198/Project 2/app_V3.py\", line 68, in main\n",
      "    TOTAL_NUMBER_OF_NOT_CHECKOUT_APPOINTMENT = st.number_input(\"Number of Not Checkout Appointment (idk what this means)\",\"0\")\n",
      "  File \"/Users/xiomara/opt/anaconda3/lib/python3.8/site-packages/streamlit/runtime/metrics_util.py\", line 397, in wrapped_func\n",
      "    result = non_optional_func(*args, **kwargs)\n",
      "  File \"/Users/xiomara/opt/anaconda3/lib/python3.8/site-packages/streamlit/elements/widgets/number_input.py\", line 237, in number_input\n",
      "    return self._number_input(\n",
      "  File \"/Users/xiomara/opt/anaconda3/lib/python3.8/site-packages/streamlit/elements/widgets/number_input.py\", line 407, in _number_input\n",
      "    raise StreamlitAPIException(str(e))\n",
      "streamlit.errors.StreamlitAPIException: `min_value` (0) is not a float\n",
      "2024-03-15 21:13:17.418 Uncaught app exception\n",
      "Traceback (most recent call last):\n",
      "  File \"/Users/xiomara/opt/anaconda3/lib/python3.8/site-packages/streamlit/elements/widgets/number_input.py\", line 399, in _number_input\n",
      "    JSNumber.validate_float_bounds(min_value, \"`min_value`\")\n",
      "  File \"/Users/xiomara/opt/anaconda3/lib/python3.8/site-packages/streamlit/js_number.py\", line 98, in validate_float_bounds\n",
      "    raise JSNumberBoundsException(\n",
      "streamlit.js_number.JSNumberBoundsException: `min_value` (0) is not a float\n",
      "\n",
      "During handling of the above exception, another exception occurred:\n",
      "\n",
      "Traceback (most recent call last):\n",
      "  File \"/Users/xiomara/opt/anaconda3/lib/python3.8/site-packages/streamlit/runtime/scriptrunner/script_runner.py\", line 535, in _run_script\n",
      "    exec(code, module.__dict__)\n",
      "  File \"/Users/xiomara/Desktop/BSAN 6198/Project 2/app_V3.py\", line 124, in <module>\n",
      "    main()\n",
      "  File \"/Users/xiomara/Desktop/BSAN 6198/Project 2/app_V3.py\", line 68, in main\n",
      "    TOTAL_NUMBER_OF_NOT_CHECKOUT_APPOINTMENT = st.number_input(\"Number of Not Checkout Appointment (idk what this means)\",\"0\")\n",
      "  File \"/Users/xiomara/opt/anaconda3/lib/python3.8/site-packages/streamlit/runtime/metrics_util.py\", line 397, in wrapped_func\n",
      "    result = non_optional_func(*args, **kwargs)\n",
      "  File \"/Users/xiomara/opt/anaconda3/lib/python3.8/site-packages/streamlit/elements/widgets/number_input.py\", line 237, in number_input\n",
      "    return self._number_input(\n",
      "  File \"/Users/xiomara/opt/anaconda3/lib/python3.8/site-packages/streamlit/elements/widgets/number_input.py\", line 407, in _number_input\n",
      "    raise StreamlitAPIException(str(e))\n",
      "streamlit.errors.StreamlitAPIException: `min_value` (0) is not a float\n"
     ]
    },
    {
     "name": "stdout",
     "output_type": "stream",
     "text": [
      "2024-03-15 21:13:17.704 Uncaught app exception\n",
      "Traceback (most recent call last):\n",
      "  File \"/Users/xiomara/opt/anaconda3/lib/python3.8/site-packages/streamlit/elements/widgets/number_input.py\", line 399, in _number_input\n",
      "    JSNumber.validate_float_bounds(min_value, \"`min_value`\")\n",
      "  File \"/Users/xiomara/opt/anaconda3/lib/python3.8/site-packages/streamlit/js_number.py\", line 98, in validate_float_bounds\n",
      "    raise JSNumberBoundsException(\n",
      "streamlit.js_number.JSNumberBoundsException: `min_value` (0) is not a float\n",
      "\n",
      "During handling of the above exception, another exception occurred:\n",
      "\n",
      "Traceback (most recent call last):\n",
      "  File \"/Users/xiomara/opt/anaconda3/lib/python3.8/site-packages/streamlit/runtime/scriptrunner/script_runner.py\", line 535, in _run_script\n",
      "    exec(code, module.__dict__)\n",
      "  File \"/Users/xiomara/Desktop/BSAN 6198/Project 2/app_V3.py\", line 124, in <module>\n",
      "    main()\n",
      "  File \"/Users/xiomara/Desktop/BSAN 6198/Project 2/app_V3.py\", line 68, in main\n",
      "    TOTAL_NUMBER_OF_NOT_CHECKOUT_APPOINTMENT = st.number_input(\"Number of Not Checkout Appointment (idk what this means)\",\"0\")\n",
      "  File \"/Users/xiomara/opt/anaconda3/lib/python3.8/site-packages/streamlit/runtime/metrics_util.py\", line 397, in wrapped_func\n",
      "    result = non_optional_func(*args, **kwargs)\n",
      "  File \"/Users/xiomara/opt/anaconda3/lib/python3.8/site-packages/streamlit/elements/widgets/number_input.py\", line 237, in number_input\n",
      "    return self._number_input(\n",
      "  File \"/Users/xiomara/opt/anaconda3/lib/python3.8/site-packages/streamlit/elements/widgets/number_input.py\", line 407, in _number_input\n",
      "    raise StreamlitAPIException(str(e))\n",
      "streamlit.errors.StreamlitAPIException: `min_value` (0) is not a float\n",
      "2024-03-15 21:13:17.871 Uncaught app exception\n",
      "Traceback (most recent call last):\n",
      "  File \"/Users/xiomara/opt/anaconda3/lib/python3.8/site-packages/streamlit/elements/widgets/number_input.py\", line 399, in _number_input\n",
      "    JSNumber.validate_float_bounds(min_value, \"`min_value`\")\n",
      "  File \"/Users/xiomara/opt/anaconda3/lib/python3.8/site-packages/streamlit/js_number.py\", line 98, in validate_float_bounds\n",
      "    raise JSNumberBoundsException(\n",
      "streamlit.js_number.JSNumberBoundsException: `min_value` (0) is not a float\n",
      "\n",
      "During handling of the above exception, another exception occurred:\n",
      "\n",
      "Traceback (most recent call last):\n",
      "  File \"/Users/xiomara/opt/anaconda3/lib/python3.8/site-packages/streamlit/runtime/scriptrunner/script_runner.py\", line 535, in _run_script\n",
      "    exec(code, module.__dict__)\n",
      "  File \"/Users/xiomara/Desktop/BSAN 6198/Project 2/app_V3.py\", line 124, in <module>\n",
      "    main()\n",
      "  File \"/Users/xiomara/Desktop/BSAN 6198/Project 2/app_V3.py\", line 68, in main\n",
      "    TOTAL_NUMBER_OF_NOT_CHECKOUT_APPOINTMENT = st.number_input(\"Number of Not Checkout Appointment (idk what this means)\",\"0\")\n",
      "  File \"/Users/xiomara/opt/anaconda3/lib/python3.8/site-packages/streamlit/runtime/metrics_util.py\", line 397, in wrapped_func\n",
      "    result = non_optional_func(*args, **kwargs)\n",
      "  File \"/Users/xiomara/opt/anaconda3/lib/python3.8/site-packages/streamlit/elements/widgets/number_input.py\", line 237, in number_input\n",
      "    return self._number_input(\n",
      "  File \"/Users/xiomara/opt/anaconda3/lib/python3.8/site-packages/streamlit/elements/widgets/number_input.py\", line 407, in _number_input\n",
      "    raise StreamlitAPIException(str(e))\n",
      "streamlit.errors.StreamlitAPIException: `min_value` (0) is not a float\n",
      "/Users/xiomara/opt/anaconda3/lib/python3.8/site-packages/sklearn/base.py:465: UserWarning: X does not have valid feature names, but RandomForestClassifier was fitted with feature names\n",
      "  warnings.warn(\n",
      "/Users/xiomara/opt/anaconda3/lib/python3.8/site-packages/sklearn/base.py:465: UserWarning: X does not have valid feature names, but RandomForestClassifier was fitted with feature names\n",
      "  warnings.warn(\n",
      "2024-03-15 21:18:07.895 Uncaught app exception\n",
      "Traceback (most recent call last):\n",
      "  File \"/Users/xiomara/opt/anaconda3/lib/python3.8/site-packages/streamlit/runtime/scriptrunner/script_runner.py\", line 535, in _run_script\n",
      "    exec(code, module.__dict__)\n",
      "  File \"/Users/xiomara/Desktop/BSAN 6198/Project 2/app_V3.py\", line 124, in <module>\n",
      "    main()\n",
      "  File \"/Users/xiomara/Desktop/BSAN 6198/Project 2/app_V3.py\", line 92, in main\n",
      "    'LEAD_TIME': int(LEAD_TIME),\n",
      "ValueError: invalid literal for int() with base 10: ''\n",
      "/Users/xiomara/opt/anaconda3/lib/python3.8/site-packages/sklearn/base.py:465: UserWarning: X does not have valid feature names, but RandomForestClassifier was fitted with feature names\n",
      "  warnings.warn(\n",
      "/Users/xiomara/opt/anaconda3/lib/python3.8/site-packages/sklearn/base.py:465: UserWarning: X does not have valid feature names, but RandomForestClassifier was fitted with feature names\n",
      "  warnings.warn(\n"
     ]
    }
   ],
   "source": [
    "!streamlit run app_V3.py"
   ]
  },
  {
   "cell_type": "code",
   "execution_count": null,
   "metadata": {},
   "outputs": [],
   "source": [
    "!pip install streamlit"
   ]
  }
 ],
 "metadata": {
  "kernelspec": {
   "display_name": "Python 3",
   "language": "python",
   "name": "python3"
  },
  "language_info": {
   "codemirror_mode": {
    "name": "ipython",
    "version": 3
   },
   "file_extension": ".py",
   "mimetype": "text/x-python",
   "name": "python",
   "nbconvert_exporter": "python",
   "pygments_lexer": "ipython3",
   "version": "3.8.5"
  }
 },
 "nbformat": 4,
 "nbformat_minor": 4
}
